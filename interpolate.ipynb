{
 "cells": [
  {
   "cell_type": "code",
   "execution_count": 2,
   "id": "a8fa521d",
   "metadata": {},
   "outputs": [],
   "source": [
    "import numpy as np\n",
    "from scipy.interpolate import RegularGridInterpolator"
   ]
  },
  {
   "cell_type": "code",
   "execution_count": 5,
   "id": "8b210d2b",
   "metadata": {},
   "outputs": [],
   "source": [
    "?np.linspace"
   ]
  },
  {
   "cell_type": "code",
   "execution_count": 8,
   "id": "96e482fd",
   "metadata": {},
   "outputs": [],
   "source": [
    "nx = 200\n",
    "L = 200.\n",
    "dx = L / nx\n",
    "xx = np.linspace(0. + dx / 2., L - dx / 2., nx)\n",
    "x, y = np.meshgrid(xx, xx)"
   ]
  },
  {
   "cell_type": "code",
   "execution_count": 10,
   "id": "8561e66f",
   "metadata": {},
   "outputs": [],
   "source": [
    "data = x * y"
   ]
  },
  {
   "cell_type": "code",
   "execution_count": 16,
   "id": "eccce22e",
   "metadata": {},
   "outputs": [],
   "source": [
    "interp = RegularGridInterpolator((xx, xx), data, bounds_error = False)"
   ]
  },
  {
   "cell_type": "code",
   "execution_count": 40,
   "id": "f1590a4c",
   "metadata": {},
   "outputs": [],
   "source": [
    "nx_i = 45\n",
    "dx_i = L / nx\n",
    "xx_i = np.linspace(0. + dx_i / 2., L - dx_i / 2., nx_i)\n",
    "x_i, y_i = np.meshgrid(xx_i, xx_i)"
   ]
  },
  {
   "cell_type": "code",
   "execution_count": 41,
   "id": "ced1d448",
   "metadata": {},
   "outputs": [
    {
     "data": {
      "text/plain": [
       "(45, 45)"
      ]
     },
     "execution_count": 41,
     "metadata": {},
     "output_type": "execute_result"
    }
   ],
   "source": [
    "x_i.shape"
   ]
  },
  {
   "cell_type": "code",
   "execution_count": 42,
   "id": "8567dc36",
   "metadata": {},
   "outputs": [],
   "source": [
    "xy_i = np.array([x_i, y_i]).swapaxes(0, 2).reshape((nx_i * nx_i, 2))"
   ]
  },
  {
   "cell_type": "code",
   "execution_count": 43,
   "id": "ad00d8ac",
   "metadata": {},
   "outputs": [
    {
     "data": {
      "text/plain": [
       "(2025,)"
      ]
     },
     "execution_count": 43,
     "metadata": {},
     "output_type": "execute_result"
    }
   ],
   "source": [
    "interp(xy_i).shape"
   ]
  },
  {
   "cell_type": "code",
   "execution_count": 44,
   "id": "f63e3fbe",
   "metadata": {},
   "outputs": [
    {
     "data": {
      "text/plain": [
       "array([ 0.00000000e+00,  0.00000000e+00,  8.88178420e-16, ...,\n",
       "       -7.27595761e-12,  7.27595761e-12,  0.00000000e+00])"
      ]
     },
     "execution_count": 44,
     "metadata": {},
     "output_type": "execute_result"
    }
   ],
   "source": [
    "interp(xy_i) - (xy_i[:, 0] * xy_i[:, 1])"
   ]
  },
  {
   "cell_type": "code",
   "execution_count": null,
   "id": "a76e784f",
   "metadata": {},
   "outputs": [],
   "source": []
  }
 ],
 "metadata": {
  "kernelspec": {
   "display_name": "Python 3 (ipykernel)",
   "language": "python",
   "name": "python3"
  },
  "language_info": {
   "codemirror_mode": {
    "name": "ipython",
    "version": 3
   },
   "file_extension": ".py",
   "mimetype": "text/x-python",
   "name": "python",
   "nbconvert_exporter": "python",
   "pygments_lexer": "ipython3",
   "version": "3.10.11"
  }
 },
 "nbformat": 4,
 "nbformat_minor": 5
}
